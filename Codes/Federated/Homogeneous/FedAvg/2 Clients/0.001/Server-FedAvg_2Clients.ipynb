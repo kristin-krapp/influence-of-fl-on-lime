{
 "cells": [
  {
   "cell_type": "markdown",
   "id": "777f7f07-f56c-4614-b2c2-9ed2906a163c",
   "metadata": {
    "tags": []
   },
   "source": [
    "<b>IMPORTE</b></br>Importing the Flower framework"
   ]
  },
  {
   "cell_type": "code",
   "execution_count": null,
   "id": "2b5fa5a9-4b18-49ec-a8d6-053ffa37007d",
   "metadata": {},
   "outputs": [],
   "source": [
    "import flwr as fl"
   ]
  },
  {
   "cell_type": "markdown",
   "id": "40426527-c5f3-40a5-b78e-ece034888174",
   "metadata": {},
   "source": [
    "<b>SETTING FL STRATEGY</b></br>Defining FedAvg as algorithm of choice and required client numbers for training and evaluation"
   ]
  },
  {
   "cell_type": "code",
   "execution_count": null,
   "id": "714ae3ea-3b8e-4cb7-8616-883f55c26aac",
   "metadata": {},
   "outputs": [],
   "source": [
    "# Define the strategy\n",
    "strategy = fl.server.strategy.FedAvg(\n",
    "    min_available_clients=2,\n",
    "    min_fit_clients=2,\n",
    ")\n"
   ]
  },
  {
   "cell_type": "markdown",
   "id": "a5c3d5b8-4a25-4c31-8cca-ae7663064429",
   "metadata": {},
   "source": [
    "<b>STARTNG FL SERVER</b></br>Starting server and setting number of rounds to perform"
   ]
  },
  {
   "cell_type": "code",
   "execution_count": null,
   "id": "898ea214",
   "metadata": {},
   "outputs": [],
   "source": [
    "# Define the server configuration\n",
    "config = fl.server.ServerConfig(num_rounds=3)\n",
    "\n",
    "# Start the server\n",
    "fl.server.start_server(\n",
    "    server_address=\"localhost:8080\",\n",
    "    config=config,\n",
    "    strategy=strategy\n",
    ")"
   ]
  }
 ],
 "metadata": {
  "kernelspec": {
   "display_name": "Python 3 (ipykernel)",
   "language": "python",
   "name": "python3"
  },
  "language_info": {
   "codemirror_mode": {
    "name": "ipython",
    "version": 3
   },
   "file_extension": ".py",
   "mimetype": "text/x-python",
   "name": "python",
   "nbconvert_exporter": "python",
   "pygments_lexer": "ipython3",
   "version": "3.11.0rc1"
  }
 },
 "nbformat": 4,
 "nbformat_minor": 5
}
